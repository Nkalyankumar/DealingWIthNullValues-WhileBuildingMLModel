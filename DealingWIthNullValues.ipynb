{
 "cells": [
  {
   "cell_type": "markdown",
   "id": "9b5a9e23",
   "metadata": {},
   "source": [
    "# How RegressionModels Behave on different ways of Dealing NaN values"
   ]
  },
  {
   "cell_type": "code",
   "execution_count": 1,
   "id": "2715cbe0",
   "metadata": {},
   "outputs": [],
   "source": [
    "#importing libraries\n",
    "import pandas\n",
    "from sklearn.model_selection import train_test_split\n",
    "from sklearn.linear_model import LinearRegression,LogisticRegression,Lasso,Ridge,ElasticNet\n",
    "from sklearn.metrics import mean_squared_error\n",
    "from sklearn.metrics import r2_score"
   ]
  },
  {
   "cell_type": "code",
   "execution_count": 2,
   "id": "7e609b64",
   "metadata": {},
   "outputs": [],
   "source": [
    "#Reading the Dataset as a DataFrame"
   ]
  },
  {
   "cell_type": "code",
   "execution_count": 3,
   "id": "a891d67f",
   "metadata": {},
   "outputs": [],
   "source": [
    "data_frame = pandas.read_csv('HousingData.csv')"
   ]
  },
  {
   "cell_type": "code",
   "execution_count": 4,
   "id": "ddf5a316",
   "metadata": {},
   "outputs": [
    {
     "data": {
      "text/html": [
       "<div>\n",
       "<style scoped>\n",
       "    .dataframe tbody tr th:only-of-type {\n",
       "        vertical-align: middle;\n",
       "    }\n",
       "\n",
       "    .dataframe tbody tr th {\n",
       "        vertical-align: top;\n",
       "    }\n",
       "\n",
       "    .dataframe thead th {\n",
       "        text-align: right;\n",
       "    }\n",
       "</style>\n",
       "<table border=\"1\" class=\"dataframe\">\n",
       "  <thead>\n",
       "    <tr style=\"text-align: right;\">\n",
       "      <th></th>\n",
       "      <th>CRIM</th>\n",
       "      <th>ZN</th>\n",
       "      <th>INDUS</th>\n",
       "      <th>CHAS</th>\n",
       "      <th>NOX</th>\n",
       "      <th>RM</th>\n",
       "      <th>AGE</th>\n",
       "      <th>DIS</th>\n",
       "      <th>RAD</th>\n",
       "      <th>TAX</th>\n",
       "      <th>PTRATIO</th>\n",
       "      <th>B</th>\n",
       "      <th>LSTAT</th>\n",
       "      <th>MEDV</th>\n",
       "    </tr>\n",
       "  </thead>\n",
       "  <tbody>\n",
       "    <tr>\n",
       "      <th>0</th>\n",
       "      <td>0.00632</td>\n",
       "      <td>18.0</td>\n",
       "      <td>2.31</td>\n",
       "      <td>0.0</td>\n",
       "      <td>0.538</td>\n",
       "      <td>6.575</td>\n",
       "      <td>65.2</td>\n",
       "      <td>4.0900</td>\n",
       "      <td>1</td>\n",
       "      <td>296</td>\n",
       "      <td>15.3</td>\n",
       "      <td>396.90</td>\n",
       "      <td>4.98</td>\n",
       "      <td>24.0</td>\n",
       "    </tr>\n",
       "    <tr>\n",
       "      <th>1</th>\n",
       "      <td>0.02731</td>\n",
       "      <td>0.0</td>\n",
       "      <td>7.07</td>\n",
       "      <td>0.0</td>\n",
       "      <td>0.469</td>\n",
       "      <td>6.421</td>\n",
       "      <td>78.9</td>\n",
       "      <td>4.9671</td>\n",
       "      <td>2</td>\n",
       "      <td>242</td>\n",
       "      <td>17.8</td>\n",
       "      <td>396.90</td>\n",
       "      <td>9.14</td>\n",
       "      <td>21.6</td>\n",
       "    </tr>\n",
       "    <tr>\n",
       "      <th>2</th>\n",
       "      <td>0.02729</td>\n",
       "      <td>0.0</td>\n",
       "      <td>7.07</td>\n",
       "      <td>0.0</td>\n",
       "      <td>0.469</td>\n",
       "      <td>7.185</td>\n",
       "      <td>61.1</td>\n",
       "      <td>4.9671</td>\n",
       "      <td>2</td>\n",
       "      <td>242</td>\n",
       "      <td>17.8</td>\n",
       "      <td>392.83</td>\n",
       "      <td>4.03</td>\n",
       "      <td>34.7</td>\n",
       "    </tr>\n",
       "    <tr>\n",
       "      <th>3</th>\n",
       "      <td>0.03237</td>\n",
       "      <td>0.0</td>\n",
       "      <td>2.18</td>\n",
       "      <td>0.0</td>\n",
       "      <td>0.458</td>\n",
       "      <td>6.998</td>\n",
       "      <td>45.8</td>\n",
       "      <td>6.0622</td>\n",
       "      <td>3</td>\n",
       "      <td>222</td>\n",
       "      <td>18.7</td>\n",
       "      <td>394.63</td>\n",
       "      <td>2.94</td>\n",
       "      <td>33.4</td>\n",
       "    </tr>\n",
       "    <tr>\n",
       "      <th>4</th>\n",
       "      <td>0.06905</td>\n",
       "      <td>0.0</td>\n",
       "      <td>2.18</td>\n",
       "      <td>0.0</td>\n",
       "      <td>0.458</td>\n",
       "      <td>7.147</td>\n",
       "      <td>54.2</td>\n",
       "      <td>6.0622</td>\n",
       "      <td>3</td>\n",
       "      <td>222</td>\n",
       "      <td>18.7</td>\n",
       "      <td>396.90</td>\n",
       "      <td>NaN</td>\n",
       "      <td>36.2</td>\n",
       "    </tr>\n",
       "    <tr>\n",
       "      <th>...</th>\n",
       "      <td>...</td>\n",
       "      <td>...</td>\n",
       "      <td>...</td>\n",
       "      <td>...</td>\n",
       "      <td>...</td>\n",
       "      <td>...</td>\n",
       "      <td>...</td>\n",
       "      <td>...</td>\n",
       "      <td>...</td>\n",
       "      <td>...</td>\n",
       "      <td>...</td>\n",
       "      <td>...</td>\n",
       "      <td>...</td>\n",
       "      <td>...</td>\n",
       "    </tr>\n",
       "    <tr>\n",
       "      <th>501</th>\n",
       "      <td>0.06263</td>\n",
       "      <td>0.0</td>\n",
       "      <td>11.93</td>\n",
       "      <td>0.0</td>\n",
       "      <td>0.573</td>\n",
       "      <td>6.593</td>\n",
       "      <td>69.1</td>\n",
       "      <td>2.4786</td>\n",
       "      <td>1</td>\n",
       "      <td>273</td>\n",
       "      <td>21.0</td>\n",
       "      <td>391.99</td>\n",
       "      <td>NaN</td>\n",
       "      <td>22.4</td>\n",
       "    </tr>\n",
       "    <tr>\n",
       "      <th>502</th>\n",
       "      <td>0.04527</td>\n",
       "      <td>0.0</td>\n",
       "      <td>11.93</td>\n",
       "      <td>0.0</td>\n",
       "      <td>0.573</td>\n",
       "      <td>6.120</td>\n",
       "      <td>76.7</td>\n",
       "      <td>2.2875</td>\n",
       "      <td>1</td>\n",
       "      <td>273</td>\n",
       "      <td>21.0</td>\n",
       "      <td>396.90</td>\n",
       "      <td>9.08</td>\n",
       "      <td>20.6</td>\n",
       "    </tr>\n",
       "    <tr>\n",
       "      <th>503</th>\n",
       "      <td>0.06076</td>\n",
       "      <td>0.0</td>\n",
       "      <td>11.93</td>\n",
       "      <td>0.0</td>\n",
       "      <td>0.573</td>\n",
       "      <td>6.976</td>\n",
       "      <td>91.0</td>\n",
       "      <td>2.1675</td>\n",
       "      <td>1</td>\n",
       "      <td>273</td>\n",
       "      <td>21.0</td>\n",
       "      <td>396.90</td>\n",
       "      <td>5.64</td>\n",
       "      <td>23.9</td>\n",
       "    </tr>\n",
       "    <tr>\n",
       "      <th>504</th>\n",
       "      <td>0.10959</td>\n",
       "      <td>0.0</td>\n",
       "      <td>11.93</td>\n",
       "      <td>0.0</td>\n",
       "      <td>0.573</td>\n",
       "      <td>6.794</td>\n",
       "      <td>89.3</td>\n",
       "      <td>2.3889</td>\n",
       "      <td>1</td>\n",
       "      <td>273</td>\n",
       "      <td>21.0</td>\n",
       "      <td>393.45</td>\n",
       "      <td>6.48</td>\n",
       "      <td>22.0</td>\n",
       "    </tr>\n",
       "    <tr>\n",
       "      <th>505</th>\n",
       "      <td>0.04741</td>\n",
       "      <td>0.0</td>\n",
       "      <td>11.93</td>\n",
       "      <td>0.0</td>\n",
       "      <td>0.573</td>\n",
       "      <td>6.030</td>\n",
       "      <td>NaN</td>\n",
       "      <td>2.5050</td>\n",
       "      <td>1</td>\n",
       "      <td>273</td>\n",
       "      <td>21.0</td>\n",
       "      <td>396.90</td>\n",
       "      <td>7.88</td>\n",
       "      <td>11.9</td>\n",
       "    </tr>\n",
       "  </tbody>\n",
       "</table>\n",
       "<p>506 rows × 14 columns</p>\n",
       "</div>"
      ],
      "text/plain": [
       "        CRIM    ZN  INDUS  CHAS    NOX     RM   AGE     DIS  RAD  TAX  \\\n",
       "0    0.00632  18.0   2.31   0.0  0.538  6.575  65.2  4.0900    1  296   \n",
       "1    0.02731   0.0   7.07   0.0  0.469  6.421  78.9  4.9671    2  242   \n",
       "2    0.02729   0.0   7.07   0.0  0.469  7.185  61.1  4.9671    2  242   \n",
       "3    0.03237   0.0   2.18   0.0  0.458  6.998  45.8  6.0622    3  222   \n",
       "4    0.06905   0.0   2.18   0.0  0.458  7.147  54.2  6.0622    3  222   \n",
       "..       ...   ...    ...   ...    ...    ...   ...     ...  ...  ...   \n",
       "501  0.06263   0.0  11.93   0.0  0.573  6.593  69.1  2.4786    1  273   \n",
       "502  0.04527   0.0  11.93   0.0  0.573  6.120  76.7  2.2875    1  273   \n",
       "503  0.06076   0.0  11.93   0.0  0.573  6.976  91.0  2.1675    1  273   \n",
       "504  0.10959   0.0  11.93   0.0  0.573  6.794  89.3  2.3889    1  273   \n",
       "505  0.04741   0.0  11.93   0.0  0.573  6.030   NaN  2.5050    1  273   \n",
       "\n",
       "     PTRATIO       B  LSTAT  MEDV  \n",
       "0       15.3  396.90   4.98  24.0  \n",
       "1       17.8  396.90   9.14  21.6  \n",
       "2       17.8  392.83   4.03  34.7  \n",
       "3       18.7  394.63   2.94  33.4  \n",
       "4       18.7  396.90    NaN  36.2  \n",
       "..       ...     ...    ...   ...  \n",
       "501     21.0  391.99    NaN  22.4  \n",
       "502     21.0  396.90   9.08  20.6  \n",
       "503     21.0  396.90   5.64  23.9  \n",
       "504     21.0  393.45   6.48  22.0  \n",
       "505     21.0  396.90   7.88  11.9  \n",
       "\n",
       "[506 rows x 14 columns]"
      ]
     },
     "execution_count": 4,
     "metadata": {},
     "output_type": "execute_result"
    }
   ],
   "source": [
    "data_frame"
   ]
  },
  {
   "cell_type": "markdown",
   "id": "2a0873f3",
   "metadata": {},
   "source": [
    "# DataCleaning"
   ]
  },
  {
   "cell_type": "markdown",
   "id": "32b83565",
   "metadata": {},
   "source": [
    "# 1.Handling with the Null Values"
   ]
  },
  {
   "cell_type": "code",
   "execution_count": null,
   "id": "aa0ab156",
   "metadata": {},
   "outputs": [],
   "source": [
    "#1.1confiramtion with whether null values are present in the Dataset or Not"
   ]
  },
  {
   "cell_type": "code",
   "execution_count": 5,
   "id": "b67be4a6",
   "metadata": {},
   "outputs": [
    {
     "name": "stdout",
     "output_type": "stream",
     "text": [
      "The DataSet Contain Null Values\n"
     ]
    }
   ],
   "source": [
    "if(data_frame.isnull().any().any()):\n",
    "    print(\"The DataSet Contain Null Values\")\n",
    "else:\n",
    "    print(\"Dataset is free of Null Values\")"
   ]
  },
  {
   "cell_type": "code",
   "execution_count": null,
   "id": "5ad794e4",
   "metadata": {},
   "outputs": [],
   "source": [
    "#1.2.What are the attributes that contain Null Values"
   ]
  },
  {
   "cell_type": "code",
   "execution_count": 6,
   "id": "585b89d6",
   "metadata": {},
   "outputs": [],
   "source": [
    "#getting all the attributes of the DataFrame\n",
    "df_attributes = data_frame.columns.tolist()"
   ]
  },
  {
   "cell_type": "code",
   "execution_count": 7,
   "id": "ab2bed9b",
   "metadata": {},
   "outputs": [
    {
     "name": "stdout",
     "output_type": "stream",
     "text": [
      "The Null Valued Attributes in the Dataset are ['CRIM', 'ZN', 'INDUS', 'CHAS', 'AGE', 'LSTAT']\n"
     ]
    }
   ],
   "source": [
    "null_valued_attributes = []\n",
    "for attribute in df_attributes:\n",
    "    if(data_frame[attribute].isnull().any()):\n",
    "        null_valued_attributes.append(attribute)\n",
    "print(\"The Null Valued Attributes in the Dataset are\",null_valued_attributes)"
   ]
  },
  {
   "cell_type": "code",
   "execution_count": 8,
   "id": "ffc49938",
   "metadata": {},
   "outputs": [
    {
     "name": "stdout",
     "output_type": "stream",
     "text": [
      "The Ratio of NullValue Presence in Dataset 42.857142857142854 Percentage\n"
     ]
    }
   ],
   "source": [
    "print(\"The Ratio of NullValue Presence in Dataset\",(len(null_valued_attributes)/len(df_attributes))*100,\"Percentage\")"
   ]
  },
  {
   "cell_type": "markdown",
   "id": "14eb69e3",
   "metadata": {},
   "source": [
    "# Null Values Handling"
   ]
  },
  {
   "cell_type": "code",
   "execution_count": 9,
   "id": "b2f1cfea",
   "metadata": {},
   "outputs": [],
   "source": [
    "#removing all the null valued rows in the dataframe\n",
    "\n",
    "cleaned_df_c1 = data_frame.dropna()"
   ]
  },
  {
   "cell_type": "code",
   "execution_count": 10,
   "id": "049928d8",
   "metadata": {},
   "outputs": [
    {
     "name": "stdout",
     "output_type": "stream",
     "text": [
      "The Ratio of cleandata in originaldata 77.86561264822134 Percentage\n",
      "22.134387351778656 Percentage of data is unclean in Original dataset\n"
     ]
    }
   ],
   "source": [
    "print(\"The Ratio of cleandata in originaldata\",(len(cleaned_df_c1)/len(data_frame))*100,\"Percentage\")\n",
    "print(100- (len(cleaned_df_c1)/len(data_frame))*100,\"Percentage of data is unclean in Original dataset\")"
   ]
  },
  {
   "cell_type": "code",
   "execution_count": null,
   "id": "063b7cb1",
   "metadata": {},
   "outputs": [],
   "source": [
    "#replacing the Null value technique"
   ]
  },
  {
   "cell_type": "code",
   "execution_count": null,
   "id": "3f053f27",
   "metadata": {},
   "outputs": [],
   "source": [
    "#replacing with the mean"
   ]
  },
  {
   "cell_type": "code",
   "execution_count": 11,
   "id": "d622d9f7",
   "metadata": {},
   "outputs": [],
   "source": [
    "cleaned_df_c2 =  data_frame.fillna(data_frame.mean())"
   ]
  },
  {
   "cell_type": "code",
   "execution_count": null,
   "id": "937eca9b",
   "metadata": {},
   "outputs": [],
   "source": [
    "#replacing with the median"
   ]
  },
  {
   "cell_type": "code",
   "execution_count": 12,
   "id": "2d7e53a7",
   "metadata": {},
   "outputs": [],
   "source": [
    "cleaned_df_c3 =  data_frame.fillna(data_frame.median())"
   ]
  },
  {
   "cell_type": "code",
   "execution_count": null,
   "id": "8a90f43a",
   "metadata": {},
   "outputs": [],
   "source": [
    "#replacing with 0"
   ]
  },
  {
   "cell_type": "code",
   "execution_count": 14,
   "id": "184cf0e3",
   "metadata": {},
   "outputs": [],
   "source": [
    "cleaned_df_c4 =  data_frame.fillna(0)"
   ]
  },
  {
   "cell_type": "code",
   "execution_count": null,
   "id": "863f76dd",
   "metadata": {},
   "outputs": [],
   "source": [
    "#DataPreparation"
   ]
  },
  {
   "cell_type": "code",
   "execution_count": 17,
   "id": "70aad555",
   "metadata": {},
   "outputs": [],
   "source": [
    "X = cleaned_df_c1.drop('MEDV',axis = 1)\n",
    "y = cleaned_df_c1['MEDV']"
   ]
  },
  {
   "cell_type": "code",
   "execution_count": null,
   "id": "5ff22d88",
   "metadata": {},
   "outputs": [],
   "source": [
    "#traintest split"
   ]
  },
  {
   "cell_type": "code",
   "execution_count": 18,
   "id": "2db6a07c",
   "metadata": {},
   "outputs": [],
   "source": [
    "X_train,X_test,y_train,y_test = train_test_split(X,y,test_size = 0.2)"
   ]
  },
  {
   "cell_type": "markdown",
   "id": "ca07f1c4",
   "metadata": {},
   "source": [
    "# Models on case1 dataset(Null values are removed)"
   ]
  },
  {
   "cell_type": "code",
   "execution_count": null,
   "id": "2861baa1",
   "metadata": {},
   "outputs": [],
   "source": [
    "# 1.LinearRegression Model"
   ]
  },
  {
   "cell_type": "code",
   "execution_count": 19,
   "id": "8214270f",
   "metadata": {},
   "outputs": [
    {
     "name": "stdout",
     "output_type": "stream",
     "text": [
      "The MeanSqaured Error of the Model 31.436246956182377\n",
      "The Accuracy of the Model 52.32990729553174\n"
     ]
    }
   ],
   "source": [
    "Model11 = LinearRegression()\n",
    "Model11.fit(X_train,y_train)\n",
    "y_pred11 = Model11.predict(X_test)\n",
    "mse_error11 = mean_squared_error(y_test,y_pred11)\n",
    "accuracy11 = r2_score(y_test,y_pred11)\n",
    "print(\"The MeanSqaured Error of the Model\",mse_error11)\n",
    "print(\"The Accuracy of the Model\",accuracy11*100)\n"
   ]
  },
  {
   "cell_type": "code",
   "execution_count": null,
   "id": "8f7d4217",
   "metadata": {},
   "outputs": [],
   "source": [
    "# 2.Lasso"
   ]
  },
  {
   "cell_type": "code",
   "execution_count": 20,
   "id": "091bff5f",
   "metadata": {},
   "outputs": [
    {
     "name": "stdout",
     "output_type": "stream",
     "text": [
      "The MeanSqaured Error of the Model 31.168678638391558\n",
      "The Accuracy of the Model 52.7356493210237\n"
     ]
    }
   ],
   "source": [
    "Model12 = Lasso(alpha = 0.1)\n",
    "Model12.fit(X_train,y_train)\n",
    "y_pred12 = Model12.predict(X_test)\n",
    "mse_error12 = mean_squared_error(y_test,y_pred12)\n",
    "accuracy12 = r2_score(y_test,y_pred12)\n",
    "print(\"The MeanSqaured Error of the Model\",mse_error12)\n",
    "print(\"The Accuracy of the Model\",accuracy12*100)\n"
   ]
  },
  {
   "cell_type": "code",
   "execution_count": null,
   "id": "0f841e93",
   "metadata": {},
   "outputs": [],
   "source": [
    "#3.Ridge"
   ]
  },
  {
   "cell_type": "code",
   "execution_count": 21,
   "id": "7cca2a3d",
   "metadata": {},
   "outputs": [
    {
     "name": "stdout",
     "output_type": "stream",
     "text": [
      "The MeanSqaured Error of the Model 31.98737210335838\n",
      "The Accuracy of the Model 51.49417818021262\n"
     ]
    }
   ],
   "source": [
    "Model13 = Ridge(alpha = 2)\n",
    "Model13.fit(X_train,y_train)\n",
    "y_pred13 = Model13.predict(X_test)\n",
    "mse_error13 = mean_squared_error(y_test,y_pred13)\n",
    "accuracy13 = r2_score(y_test,y_pred13)\n",
    "print(\"The MeanSqaured Error of the Model\",mse_error13)\n",
    "print(\"The Accuracy of the Model\",accuracy13*100)\n"
   ]
  },
  {
   "cell_type": "code",
   "execution_count": null,
   "id": "f664b029",
   "metadata": {},
   "outputs": [],
   "source": [
    "#ElasticNet"
   ]
  },
  {
   "cell_type": "code",
   "execution_count": 22,
   "id": "ac53424c",
   "metadata": {},
   "outputs": [
    {
     "name": "stdout",
     "output_type": "stream",
     "text": [
      "The MeanSqaured Error of the Model 27.157113083994037\n",
      "The Accuracy of the Model 58.81880874316246\n"
     ]
    }
   ],
   "source": [
    "Model14 = ElasticNet(alpha = 1)\n",
    "Model14.fit(X_train,y_train)\n",
    "y_pred14 = Model14.predict(X_test)\n",
    "mse_error14 = mean_squared_error(y_test,y_pred14)\n",
    "accuracy14 = r2_score(y_test,y_pred14)\n",
    "print(\"The MeanSqaured Error of the Model\",mse_error14)\n",
    "print(\"The Accuracy of the Model\",accuracy14*100)"
   ]
  },
  {
   "cell_type": "markdown",
   "id": "1cedd4ed",
   "metadata": {},
   "source": [
    "# In the same way Building models on case2 DataFrame"
   ]
  },
  {
   "cell_type": "code",
   "execution_count": 8,
   "id": "6660fed1",
   "metadata": {},
   "outputs": [
    {
     "name": "stdout",
     "output_type": "stream",
     "text": [
      "The MeanSquared Error of the Model 23.49650911759328\n",
      "The Accuracy of the Model 60.91175064277075\n",
      "The MeanSquared Error of the Model 23.85156158194755\n",
      "The Accuracy of the Model 60.32109357145343\n",
      "The MeanSquared Error of the Model 23.04947304485482\n",
      "The Accuracy of the Model 61.65542951844654\n",
      "The MeanSquared Error of the Model 27.12903230436044\n",
      "The Accuracy of the Model 54.86876904879618\n"
     ]
    }
   ],
   "source": [
    "X = cleaned_df_c2.drop('MEDV',axis = 1)\n",
    "y = cleaned_df_c2['MEDV']\n",
    "\n",
    "\n",
    "X_train,X_test,y_train,y_test = train_test_split(X,y,test_size = 0.2)\n",
    "\n",
    "\n",
    "\n",
    "\n",
    "Model21 = LinearRegression()\n",
    "Model21.fit(X_train, y_train)\n",
    "y_pred21 = Model21.predict(X_test)\n",
    "mse_error21 = mean_squared_error(y_test, y_pred21)\n",
    "accuracy21 = r2_score(y_test, y_pred21)\n",
    "print(\"The MeanSquared Error of the Model\", mse_error21)\n",
    "print(\"The Accuracy of the Model\", accuracy21 * 100)\n",
    "\n",
    "Model22 = Lasso(alpha=0.2)\n",
    "Model22.fit(X_train, y_train)\n",
    "y_pred22 = Model22.predict(X_test)\n",
    "mse_error22 = mean_squared_error(y_test, y_pred22)\n",
    "accuracy22 = r2_score(y_test, y_pred22)\n",
    "print(\"The MeanSquared Error of the Model\", mse_error22)\n",
    "print(\"The Accuracy of the Model\", accuracy22 * 100)\n",
    "\n",
    "Model23 = Ridge(alpha=2)\n",
    "Model23.fit(X_train, y_train)\n",
    "y_pred23 = Model23.predict(X_test)\n",
    "mse_error23 = mean_squared_error(y_test, y_pred23)\n",
    "accuracy23 = r2_score(y_test, y_pred23)\n",
    "print(\"The MeanSquared Error of the Model\", mse_error23)\n",
    "print(\"The Accuracy of the Model\", accuracy23 * 100)\n",
    "\n",
    "Model24 = ElasticNet(alpha=2)\n",
    "Model24.fit(X_train, y_train)\n",
    "y_pred24 = Model24.predict(X_test)\n",
    "mse_error24 = mean_squared_error(y_test, y_pred24)\n",
    "accuracy24 = r2_score(y_test, y_pred24)\n",
    "print(\"The MeanSquared Error of the Model\", mse_error24)\n",
    "print(\"The Accuracy of the Model\", accuracy24 * 100)\n"
   ]
  },
  {
   "cell_type": "markdown",
   "id": "8da9ebfa",
   "metadata": {},
   "source": [
    "# Models on case3 DataFrame"
   ]
  },
  {
   "cell_type": "code",
   "execution_count": 9,
   "id": "f747a9c4",
   "metadata": {},
   "outputs": [
    {
     "name": "stdout",
     "output_type": "stream",
     "text": [
      "The MeanSquared Error of the Model 22.778460969484296\n",
      "The Accuracy of the Model 69.53153668732209\n",
      "The MeanSquared Error of the Model 21.797296760503958\n",
      "The Accuracy of the Model 70.84394167135848\n",
      "The MeanSquared Error of the Model 22.292528792953743\n",
      "The Accuracy of the Model 70.18151943694268\n",
      "The MeanSquared Error of the Model 30.185315345789537\n",
      "The Accuracy of the Model 59.62413025063894\n"
     ]
    }
   ],
   "source": [
    "X = cleaned_df_c3.drop('MEDV',axis = 1)\n",
    "y = cleaned_df_c3['MEDV']\n",
    "\n",
    "\n",
    "X_train,X_test,y_train,y_test = train_test_split(X,y,test_size = 0.2)\n",
    "\n",
    "\n",
    "\n",
    "\n",
    "Model31 = LinearRegression()\n",
    "Model31.fit(X_train, y_train)\n",
    "y_pred31 = Model31.predict(X_test)\n",
    "mse_error31 = mean_squared_error(y_test, y_pred31)\n",
    "accuracy31 = r2_score(y_test, y_pred31)\n",
    "print(\"The MeanSquared Error of the Model\", mse_error31)\n",
    "print(\"The Accuracy of the Model\", accuracy31 * 100)\n",
    "\n",
    "Model32 = Lasso(alpha=0.3)\n",
    "Model32.fit(X_train, y_train)\n",
    "y_pred32 = Model32.predict(X_test)\n",
    "mse_error32 = mean_squared_error(y_test, y_pred32)\n",
    "accuracy32 = r2_score(y_test, y_pred32)\n",
    "print(\"The MeanSquared Error of the Model\", mse_error32)\n",
    "print(\"The Accuracy of the Model\", accuracy32 * 100)\n",
    "\n",
    "Model33 = Ridge(alpha=3)\n",
    "Model33.fit(X_train, y_train)\n",
    "y_pred33 = Model33.predict(X_test)\n",
    "mse_error33 = mean_squared_error(y_test, y_pred33)\n",
    "accuracy33 = r2_score(y_test, y_pred33)\n",
    "print(\"The MeanSquared Error of the Model\", mse_error33)\n",
    "print(\"The Accuracy of the Model\", accuracy33 * 100)\n",
    "\n",
    "Model34 = ElasticNet(alpha=3)\n",
    "Model34.fit(X_train, y_train)\n",
    "y_pred34 = Model34.predict(X_test)\n",
    "mse_error34 = mean_squared_error(y_test, y_pred34)\n",
    "accuracy34 = r2_score(y_test, y_pred34)\n",
    "print(\"The MeanSquared Error of the Model\", mse_error34)\n",
    "print(\"The Accuracy of the Model\", accuracy34 * 100)\n"
   ]
  },
  {
   "cell_type": "markdown",
   "id": "58672472",
   "metadata": {},
   "source": [
    "# Models on case4 DataFrame"
   ]
  },
  {
   "cell_type": "code",
   "execution_count": 11,
   "id": "bdb86e5b",
   "metadata": {},
   "outputs": [
    {
     "name": "stdout",
     "output_type": "stream",
     "text": [
      "The MeanSquared Error of the Model 17.049108899930033\n",
      "The Accuracy of the Model 77.80703019989069\n",
      "The MeanSquared Error of the Model 18.138520120462573\n",
      "The Accuracy of the Model 76.38893436514134\n",
      "The MeanSquared Error of the Model 17.010069305477302\n",
      "The Accuracy of the Model 77.8578483714317\n",
      "The MeanSquared Error of the Model 25.77638378021717\n",
      "The Accuracy of the Model 66.44666239461145\n"
     ]
    }
   ],
   "source": [
    "X = cleaned_df_c4.drop('MEDV',axis = 1)\n",
    "y = cleaned_df_c4['MEDV']\n",
    "\n",
    "X_train,X_test,y_train,y_test = train_test_split(X,y,test_size = 0.2)\n",
    "\n",
    "\n",
    "Model41 = LinearRegression()\n",
    "Model41.fit(X_train, y_train)\n",
    "y_pred41 = Model41.predict(X_test)\n",
    "mse_error41 = mean_squared_error(y_test, y_pred41)\n",
    "accuracy41 = r2_score(y_test, y_pred41)\n",
    "print(\"The MeanSquared Error of the Model\", mse_error41)\n",
    "print(\"The Accuracy of the Model\", accuracy41 * 100)\n",
    "\n",
    "Model42 = Lasso(alpha=0.5)\n",
    "Model42.fit(X_train, y_train)\n",
    "y_pred42 = Model42.predict(X_test)\n",
    "mse_error42 = mean_squared_error(y_test, y_pred42)\n",
    "accuracy42 = r2_score(y_test, y_pred42)\n",
    "print(\"The MeanSquared Error of the Model\", mse_error42)\n",
    "print(\"The Accuracy of the Model\", accuracy42 * 100)\n",
    "\n",
    "Model43 = Ridge(alpha=5)\n",
    "Model43.fit(X_train, y_train)\n",
    "y_pred43 = Model43.predict(X_test)\n",
    "mse_error43 = mean_squared_error(y_test, y_pred43)\n",
    "accuracy43 = r2_score(y_test, y_pred43)\n",
    "print(\"The MeanSquared Error of the Model\", mse_error43)\n",
    "print(\"The Accuracy of the Model\", accuracy43 * 100)\n",
    "\n",
    "Model44 = ElasticNet(alpha=5)\n",
    "Model44.fit(X_train, y_train)\n",
    "y_pred44 = Model44.predict(X_test)\n",
    "mse_error44 = mean_squared_error(y_test, y_pred44)\n",
    "accuracy44 = r2_score(y_test, y_pred44)\n",
    "print(\"The MeanSquared Error of the Model\", mse_error44)\n",
    "print(\"The Accuracy of the Model\", accuracy44 * 100)\n"
   ]
  },
  {
   "cell_type": "markdown",
   "id": "6061f6fd",
   "metadata": {},
   "source": [
    "# Observations"
   ]
  },
  {
   "cell_type": "code",
   "execution_count": 22,
   "id": "972ca69c",
   "metadata": {},
   "outputs": [
    {
     "data": {
      "image/png": "[encoded data removed]",
      "text/plain": [
       "<Figure size 1440x864 with 1 Axes>"
      ]
     },
     "metadata": {
      "needs_background": "light"
     },
     "output_type": "display_data"
    }
   ],
   "source": [
    "import matplotlib.pyplot as plt\n",
    "import numpy as np\n",
    "case1_accuracies = [accuracy11, accuracy21, accuracy31,accuracy41]\n",
    "case2_accuracies  = [accuracy12, accuracy22, accuracy32,accuracy42]\n",
    "case3_accuracies = [accuracy13, accuracy23, accuracy33,accuracy43]\n",
    "case4_accuracies  = [accuracy14, accuracy24, accuracy34,accuracy44]\n",
    "\n",
    "f = plt.figure()\n",
    "f.set_figwidth(20)\n",
    "f.set_figheight(12)\n",
    "model_names = ['linearreg','lasso','ridge','elastic']\n",
    "X_axis = np.arange(len(model_names))\n",
    "plt.bar(X_axis - 0.4,case1_accuracies, 0.2, label = 'Null removed')\n",
    "plt.bar(X_axis - 0.2,case2_accuracies, 0.2, label = 'Null replaced with Mean')\n",
    "plt.bar(X_axis,case3_accuracies, 0.2, label = 'Null Replaced with Median')\n",
    "plt.bar(X_axis + 0.2,case4_accuracies, 0.2, label = 'Null replaced with 0')\n",
    "plt.xticks(X_axis, model_names)\n",
    "plt.title(\"Regression Models Behaviour On Basis Of How Null Values Are Dealt\")\n",
    "plt.xlabel(\"Models Used\")\n",
    "plt.ylabel(\"r2_score\")\n",
    "plt.legend()\n",
    "plt.show()"
   ]
  }
 ],
 "metadata": {
  "kernelspec": {
   "display_name": "Python 3 (ipykernel)",
   "language": "python",
   "name": "python3"
  },
  "language_info": {
   "codemirror_mode": {
    "name": "ipython",
    "version": 3
   },
   "file_extension": ".py",
   "mimetype": "text/x-python",
   "name": "python",
   "nbconvert_exporter": "python",
   "pygments_lexer": "ipython3",
   "version": "3.9.12"
  }
 },
 "nbformat": 4,
 "nbformat_minor": 5
}
